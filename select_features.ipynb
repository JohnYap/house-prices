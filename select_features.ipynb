{
 "cells": [
  {
   "cell_type": "markdown",
   "metadata": {},
   "source": [
    "# Select Features"
   ]
  },
  {
   "cell_type": "markdown",
   "metadata": {},
   "source": [
    "This notebook selects the features to be used in the analysis.  At the end of the notebook, an output dataset called 'train_select' is created and will be used in the next notebook, Final_Data_Processing.  **You may run this entire notebook all at once.**\n",
    "\n",
    "The features are categorized as GENERAL, HOUSE INTERIOR, and HOUSE EXTERIOR according to the aspects of the house they describe.  They are further classified into subcategories.\n",
    "\n",
    "**Note**: CAT = categorical; CONT = continuous"
   ]
  },
  {
   "cell_type": "code",
   "execution_count": 1,
   "metadata": {
    "collapsed": true
   },
   "outputs": [],
   "source": [
    "import numpy as np\n",
    "import pandas as pd\n",
    "import matplotlib.pyplot as plt\n",
    "import seaborn as sns\n",
    "%matplotlib inline"
   ]
  },
  {
   "cell_type": "code",
   "execution_count": 2,
   "metadata": {
    "collapsed": true
   },
   "outputs": [],
   "source": [
    "df = pd.read_csv('./Data/train')\n",
    "m = df.shape[0]"
   ]
  },
  {
   "cell_type": "markdown",
   "metadata": {},
   "source": [
    "# GENERAL"
   ]
  },
  {
   "cell_type": "markdown",
   "metadata": {},
   "source": [
    "## 1. TYPE"
   ]
  },
  {
   "cell_type": "markdown",
   "metadata": {},
   "source": [
    "### a. MSSubClass (CAT)"
   ]
  },
  {
   "cell_type": "code",
   "execution_count": 3,
   "metadata": {
    "collapsed": true
   },
   "outputs": [],
   "source": [
    "def impute_MSSubClass(cols):\n",
    "    Id = cols[0]\n",
    "    MSSubClass = cols[1]\n",
    "    \n",
    "    if pd.isnull(MSSubClass):\n",
    "        return 'NotPUD'\n",
    "    else:\n",
    "        if MSSubClass in (120,150,160,180):\n",
    "            return 'PUD'\n",
    "        else:\n",
    "            return 'NotPUD'\n",
    "        \n",
    "df['MSSubClass'] = df[['Id','MSSubClass']].apply(impute_MSSubClass,axis=1)"
   ]
  },
  {
   "cell_type": "markdown",
   "metadata": {
    "collapsed": true
   },
   "source": [
    "### b. BldgType (CAT)"
   ]
  },
  {
   "cell_type": "code",
   "execution_count": 4,
   "metadata": {
    "collapsed": true
   },
   "outputs": [],
   "source": [
    "def impute_BldgType(cols):\n",
    "    Id = cols[0]\n",
    "    BldgType = cols[1]\n",
    "    \n",
    "    if pd.isnull(BldgType):\n",
    "        return 'OthBldgType'\n",
    "    else:\n",
    "        if BldgType in ('TwnhsE','Twnhs'):\n",
    "            return 'THBldgType'\n",
    "        elif BldgType in ('Duplex','2fmCon'):\n",
    "            return 'OthBldgType'\n",
    "        else:\n",
    "            return '1FamBldgType'\n",
    "        \n",
    "df['BldgType'] = df[['Id','BldgType']].apply(impute_BldgType,axis=1)"
   ]
  },
  {
   "cell_type": "markdown",
   "metadata": {
    "collapsed": true
   },
   "source": [
    "### c. HouseStyle (CAT)"
   ]
  },
  {
   "cell_type": "code",
   "execution_count": 5,
   "metadata": {
    "collapsed": true
   },
   "outputs": [],
   "source": [
    "def impute_HouseStyle(cols):\n",
    "    Id = cols[0]\n",
    "    HouseStyle = cols[1]\n",
    "    \n",
    "    if pd.isnull(HouseStyle):\n",
    "        return 'OthStory'\n",
    "    else:\n",
    "        if HouseStyle == '1Story':\n",
    "            return '1.0Story'\n",
    "        elif HouseStyle in ('1.5Fin','1.5Unf'):\n",
    "            return '1.5Story'\n",
    "        elif HouseStyle == '2Story':\n",
    "            return '2.0Story'\n",
    "        else:\n",
    "            return 'OthStory'\n",
    "        \n",
    "df['HouseStyle'] = df[['Id','HouseStyle']].apply(impute_HouseStyle,axis=1)"
   ]
  },
  {
   "cell_type": "markdown",
   "metadata": {},
   "source": [
    "## 2. Location/Neighborhood"
   ]
  },
  {
   "cell_type": "markdown",
   "metadata": {},
   "source": [
    "### a. MSZoning (CAT)"
   ]
  },
  {
   "cell_type": "code",
   "execution_count": 6,
   "metadata": {
    "collapsed": true
   },
   "outputs": [],
   "source": [
    "def impute_MSZoning(cols):\n",
    "    Id = cols[0]\n",
    "    MSZoning = cols[1]\n",
    "    \n",
    "    if pd.isnull(MSZoning):\n",
    "        return 'OthZone'\n",
    "    else:\n",
    "        if MSZoning == 'RL':\n",
    "            return 'RLZone'\n",
    "        elif MSZoning == 'RM':\n",
    "            return 'RMZone'\n",
    "        else:\n",
    "            return 'OthZone'\n",
    "        \n",
    "df['MSZoning'] = df[['Id','MSZoning']].apply(impute_MSZoning,axis=1)"
   ]
  },
  {
   "cell_type": "markdown",
   "metadata": {},
   "source": [
    "### b. Neighborhood (CAT; changed to feature called, 'Quadrant')"
   ]
  },
  {
   "cell_type": "code",
   "execution_count": 7,
   "metadata": {
    "collapsed": true
   },
   "outputs": [],
   "source": [
    "def impute_Neighborhood(cols):\n",
    "    Id = cols[0]\n",
    "    Neighborhood = cols[1]\n",
    "    \n",
    "    if pd.isnull(Neighborhood):\n",
    "        return 'Quad1'\n",
    "    else:\n",
    "        if Neighborhood in ('Blmngtn','BrDale','BrkSide','ClearCr','Gilbert','NAmes','NoRidge','NPkVill','NridgHt','NWAmes','OldTown','Somerst','StoneBr'):\n",
    "            return 'Quad1'\n",
    "        elif Neighborhood in ('Blueste','CollgCr','Crawfor','Edwards','SWISU','Timber'):\n",
    "            return 'Quad3'\n",
    "        elif Neighborhood in ('IDOTRR','MeadowV','Mitchel'):\n",
    "            return 'Quad4'\n",
    "        elif Neighborhood in ('Sawyer','SawyerW','Veenker'):\n",
    "            return 'Quad2'\n",
    "        else:\n",
    "            return 'Quad1'\n",
    "        \n",
    "df['Quadrant'] = df[['Id','Neighborhood']].apply(impute_Neighborhood,axis=1)"
   ]
  },
  {
   "cell_type": "code",
   "execution_count": 8,
   "metadata": {
    "collapsed": true
   },
   "outputs": [],
   "source": [
    "# Make sure to drop feature:\n",
    "df.drop('Neighborhood',axis=1,inplace=True)"
   ]
  },
  {
   "cell_type": "markdown",
   "metadata": {},
   "source": [
    "### c. Condition1 (CAT)"
   ]
  },
  {
   "cell_type": "code",
   "execution_count": 9,
   "metadata": {
    "collapsed": true
   },
   "outputs": [],
   "source": [
    "def impute_Condition1(cols):\n",
    "    Id = cols[0]\n",
    "    Condition1 = cols[1]\n",
    "    \n",
    "    if pd.isnull(Condition1):\n",
    "        return 'ANCond1'\n",
    "    else:\n",
    "        if Condition1 != 'Norm':\n",
    "            return 'ANCond1'\n",
    "        else:\n",
    "            return 'NCond1'\n",
    " \n",
    "df['Condition1'] = df[['Id','Condition1']].apply(impute_Condition1,axis=1)"
   ]
  },
  {
   "cell_type": "markdown",
   "metadata": {},
   "source": [
    "### d. Condition2"
   ]
  },
  {
   "cell_type": "code",
   "execution_count": 10,
   "metadata": {
    "collapsed": true
   },
   "outputs": [],
   "source": [
    "# Make sure to drop feature:\n",
    "df.drop('Condition2',axis=1,inplace=True)"
   ]
  },
  {
   "cell_type": "markdown",
   "metadata": {},
   "source": [
    "## 3. Time"
   ]
  },
  {
   "cell_type": "markdown",
   "metadata": {},
   "source": [
    "### a. YearBuilt (CONT)"
   ]
  },
  {
   "cell_type": "code",
   "execution_count": 11,
   "metadata": {
    "collapsed": true
   },
   "outputs": [],
   "source": [
    "#For continuous YearBuilt:\n",
    "\n",
    "def impute_YearBuilt(cols):\n",
    "    Id = cols[0]\n",
    "    YearBuilt = cols[1]\n",
    "    \n",
    "    if pd.isnull(YearBuilt):\n",
    "        return 1971 #This is the mean year for all training observations in training set (see above)\n",
    "    else:\n",
    "        return YearBuilt\n",
    " \n",
    "df['YearBuilt'] = df[['Id','YearBuilt']].apply(impute_YearBuilt,axis=1)"
   ]
  },
  {
   "cell_type": "markdown",
   "metadata": {},
   "source": [
    "### b. YearRemodAdd (CAT; feature changed to, 'Remodel')"
   ]
  },
  {
   "cell_type": "code",
   "execution_count": 12,
   "metadata": {
    "collapsed": true
   },
   "outputs": [],
   "source": [
    "def check_RemodAdd(cols):\n",
    "    \n",
    "    Id = cols[0]\n",
    "    YearBuilt = cols[1]\n",
    "    YearRemodAdd = cols[2]\n",
    "    \n",
    "    if pd.isnull(YearRemodAdd):\n",
    "        return 'NRemod'     \n",
    "    else:\n",
    "        if YearBuilt == YearRemodAdd:\n",
    "            return 'NRemod'\n",
    "        else:\n",
    "            return 'Remod'\n",
    "\n",
    "df['Remodel'] = df[['Id','YearBuilt','YearRemodAdd']].apply(check_RemodAdd,axis=1)"
   ]
  },
  {
   "cell_type": "code",
   "execution_count": 13,
   "metadata": {
    "collapsed": true
   },
   "outputs": [],
   "source": [
    "# Make sure to drop original feature:\n",
    "df.drop('YearRemodAdd',axis=1,inplace=True)"
   ]
  },
  {
   "cell_type": "markdown",
   "metadata": {},
   "source": [
    "### c. MoSold"
   ]
  },
  {
   "cell_type": "code",
   "execution_count": 14,
   "metadata": {
    "collapsed": true
   },
   "outputs": [],
   "source": [
    "# Make sure to drop feature:\n",
    "df.drop('MoSold',axis=1,inplace=True)"
   ]
  },
  {
   "cell_type": "markdown",
   "metadata": {},
   "source": [
    "### d. YrSold (CAT)"
   ]
  },
  {
   "cell_type": "code",
   "execution_count": 15,
   "metadata": {
    "collapsed": true
   },
   "outputs": [],
   "source": [
    "def impute_YrSold(cols):\n",
    "    \n",
    "    Id = cols[0]\n",
    "    YrSold = cols[1]\n",
    "    \n",
    "    if pd.isnull(YrSold):\n",
    "        return '2008' # If missing value, impute as 2008 (mean year of training set)    \n",
    "    else:\n",
    "        return str(YrSold)\n",
    "\n",
    "df['YrSold'] = df[['Id','YrSold']].apply(impute_YrSold,axis=1)"
   ]
  },
  {
   "cell_type": "markdown",
   "metadata": {},
   "source": [
    "## 4.  Sale"
   ]
  },
  {
   "cell_type": "markdown",
   "metadata": {},
   "source": [
    "### a. SaleType (CAT)"
   ]
  },
  {
   "cell_type": "code",
   "execution_count": 16,
   "metadata": {
    "collapsed": true
   },
   "outputs": [],
   "source": [
    "def impute_SaleType(cols):\n",
    "    \n",
    "    Id = cols[0]\n",
    "    SaleType = cols[1]\n",
    "    \n",
    "    if pd.isnull(SaleType):\n",
    "        return 'UnConvSale'    \n",
    "    else:\n",
    "        if SaleType == 'WD':\n",
    "            return 'ConvSale'\n",
    "        else:\n",
    "            return 'UnConvSale'\n",
    "\n",
    "df['SaleType'] = df[['Id','SaleType']].apply(impute_SaleType,axis=1)"
   ]
  },
  {
   "cell_type": "markdown",
   "metadata": {},
   "source": [
    "### b. SaleCondition (CAT)"
   ]
  },
  {
   "cell_type": "code",
   "execution_count": 17,
   "metadata": {
    "collapsed": true
   },
   "outputs": [],
   "source": [
    "def impute_SaleCondition(cols):\n",
    "    \n",
    "    Id = cols[0]\n",
    "    SaleCondition = cols[1]\n",
    "    \n",
    "    if pd.isnull(SaleCondition):\n",
    "        return 'ANormSale'    \n",
    "    else:\n",
    "        if SaleCondition == 'Normal':\n",
    "            return 'NormSale'\n",
    "        else:\n",
    "            return 'ANormSale'\n",
    "\n",
    "df['SaleCondition'] = df[['Id','SaleCondition']].apply(impute_SaleCondition,axis=1)"
   ]
  },
  {
   "cell_type": "markdown",
   "metadata": {},
   "source": [
    "## 5. Utilities"
   ]
  },
  {
   "cell_type": "markdown",
   "metadata": {},
   "source": [
    "### a. Utilities"
   ]
  },
  {
   "cell_type": "code",
   "execution_count": 18,
   "metadata": {
    "collapsed": true
   },
   "outputs": [],
   "source": [
    "# Make sure to drop feature:\n",
    "df.drop('Utilities',axis=1,inplace=True)"
   ]
  },
  {
   "cell_type": "markdown",
   "metadata": {},
   "source": [
    "### b. Heating"
   ]
  },
  {
   "cell_type": "code",
   "execution_count": 19,
   "metadata": {
    "collapsed": true
   },
   "outputs": [],
   "source": [
    "# Make sure to drop feature:\n",
    "df.drop('Heating',axis=1,inplace=True)"
   ]
  },
  {
   "cell_type": "markdown",
   "metadata": {},
   "source": [
    "### c. HeatingQC (CAT)"
   ]
  },
  {
   "cell_type": "code",
   "execution_count": 20,
   "metadata": {
    "collapsed": true
   },
   "outputs": [],
   "source": [
    "def impute_HeatingQC(cols):\n",
    "    \n",
    "    Id = cols[0]\n",
    "    HeatingQC = cols[1]\n",
    "    \n",
    "    if pd.isnull(HeatingQC):\n",
    "        return 'AveHeat'    \n",
    "    else:\n",
    "        if HeatingQC == 'Ex':\n",
    "            return 'ExcHeat'\n",
    "        elif HeatingQC == 'Gd':\n",
    "            return 'GoodHeat'\n",
    "        elif HeatingQC in ('TA','Fa','Po'):\n",
    "            return 'AveHeat'\n",
    "        else:\n",
    "            return 'AveHeat'\n",
    "\n",
    "df['HeatingQC'] = df[['Id','HeatingQC']].apply(impute_HeatingQC,axis=1)"
   ]
  },
  {
   "cell_type": "markdown",
   "metadata": {},
   "source": [
    "### d. CentralAir (CAT)"
   ]
  },
  {
   "cell_type": "code",
   "execution_count": 21,
   "metadata": {
    "collapsed": true
   },
   "outputs": [],
   "source": [
    "def impute_CentralAir(cols):\n",
    "    \n",
    "    Id = cols[0]\n",
    "    CentralAir = cols[1]\n",
    "    \n",
    "    if pd.isnull(CentralAir):\n",
    "        return 'NCentAir'    \n",
    "    else:\n",
    "        if CentralAir == 'Y':\n",
    "            return 'CentAir'\n",
    "        else:\n",
    "            return 'NCentAir'\n",
    "\n",
    "df['CentralAir'] = df[['Id','CentralAir']].apply(impute_CentralAir,axis=1)"
   ]
  },
  {
   "cell_type": "markdown",
   "metadata": {},
   "source": [
    "### e. Electrical (CAT)"
   ]
  },
  {
   "cell_type": "code",
   "execution_count": 22,
   "metadata": {
    "collapsed": true
   },
   "outputs": [],
   "source": [
    "def impute_Electrical(cols):\n",
    "    Id = cols[0]\n",
    "    Electrical = cols[1]\n",
    "    \n",
    "    if pd.isnull(Electrical):\n",
    "        return 'OthElectr'\n",
    "    else:\n",
    "        if Electrical == 'SBrkr':\n",
    "            return 'StdCBrkr'\n",
    "        else:\n",
    "            return 'OthElectr'\n",
    "        \n",
    "df['Electrical'] = df[['Id','Electrical']].apply(impute_Electrical,axis=1)"
   ]
  },
  {
   "cell_type": "markdown",
   "metadata": {},
   "source": [
    "# HOUSE INTERIOR"
   ]
  },
  {
   "cell_type": "markdown",
   "metadata": {},
   "source": [
    "## 1. Assessment"
   ]
  },
  {
   "cell_type": "markdown",
   "metadata": {},
   "source": [
    "### a. OverallQual (CAT)"
   ]
  },
  {
   "cell_type": "code",
   "execution_count": 23,
   "metadata": {
    "collapsed": true
   },
   "outputs": [],
   "source": [
    "def impute_OverallQual(cols):\n",
    "    Id = cols[0]\n",
    "    OverallQual = cols[1]\n",
    "    \n",
    "    if pd.isnull(OverallQual):\n",
    "        return 'BAOAQual'\n",
    "    else:\n",
    "        if OverallQual in (6,7,8,9,10):\n",
    "            return 'AAOAQual'\n",
    "        elif OverallQual == 5:\n",
    "            return 'AOAQual'\n",
    "        else:\n",
    "            return 'BAOAQual'\n",
    "        \n",
    "df['OverallQual'] = df[['Id','OverallQual']].apply(impute_OverallQual,axis=1)"
   ]
  },
  {
   "cell_type": "markdown",
   "metadata": {},
   "source": [
    "### b. OverallCond (CAT)"
   ]
  },
  {
   "cell_type": "code",
   "execution_count": 24,
   "metadata": {
    "collapsed": true
   },
   "outputs": [],
   "source": [
    "def impute_OverallCond(cols):\n",
    "    Id = cols[0]\n",
    "    OverallCond = cols[1]\n",
    "    \n",
    "    if pd.isnull(OverallCond):\n",
    "        return 'BAOACond'\n",
    "    else:\n",
    "        if OverallCond in (6,7,8,9,10):\n",
    "            return 'AAOACond'\n",
    "        elif OverallCond == 5:\n",
    "            return 'AOACond'\n",
    "        else:\n",
    "            return 'BAOACond'\n",
    "        \n",
    "df['OverallCond'] = df[['Id','OverallCond']].apply(impute_OverallCond,axis=1)"
   ]
  },
  {
   "cell_type": "markdown",
   "metadata": {
    "collapsed": true
   },
   "source": [
    "### c. Functional (CAT)"
   ]
  },
  {
   "cell_type": "code",
   "execution_count": 25,
   "metadata": {
    "collapsed": true
   },
   "outputs": [],
   "source": [
    "def impute_Functional(cols):\n",
    "    Id = cols[0]\n",
    "    Functional = cols[1]\n",
    "    \n",
    "    if pd.isnull(Functional):\n",
    "        return 'NTypFunc'\n",
    "    else:\n",
    "        if Functional == 'Typ':\n",
    "            return 'TypFunc'\n",
    "        else:\n",
    "            return 'NTypFunc'\n",
    "        \n",
    "df['Functional'] = df[['Id','Functional']].apply(impute_Functional,axis=1)"
   ]
  },
  {
   "cell_type": "markdown",
   "metadata": {},
   "source": [
    "## 2. Basement"
   ]
  },
  {
   "cell_type": "markdown",
   "metadata": {
    "collapsed": true
   },
   "source": [
    "### a. BsmtQual (CAT)"
   ]
  },
  {
   "cell_type": "code",
   "execution_count": 26,
   "metadata": {
    "collapsed": true
   },
   "outputs": [],
   "source": [
    "def impute_BsmtQual(cols):\n",
    "    Id = cols[0]\n",
    "    BsmtQual = cols[1]\n",
    "    \n",
    "    if pd.isnull(BsmtQual):\n",
    "        return 'No-AvBsmtQ'\n",
    "    else:\n",
    "        if BsmtQual in ('Ex','Gd'):\n",
    "            return 'GoodBsmtQ'\n",
    "        elif BsmtQual in ('Fa','Po','NA'):\n",
    "            return 'No-AvBsmtQ'\n",
    "        else: \n",
    "            return 'No-AvBsmtQ'\n",
    "        \n",
    "df['BsmtQual'] = df[['Id','BsmtQual']].apply(impute_BsmtQual,axis=1)"
   ]
  },
  {
   "cell_type": "markdown",
   "metadata": {},
   "source": [
    "### b. BsmtCond (CAT)"
   ]
  },
  {
   "cell_type": "code",
   "execution_count": 27,
   "metadata": {
    "collapsed": true
   },
   "outputs": [],
   "source": [
    "def impute_BsmtCond(cols):\n",
    "    Id = cols[0]\n",
    "    BsmtCond = cols[1]\n",
    "    \n",
    "    if pd.isnull(BsmtCond):\n",
    "        return '<AvBsmtCond'\n",
    "    else:\n",
    "        if BsmtCond in ('Ex','Gd','TA'):\n",
    "            return '>=AvBsmtCond'\n",
    "        else:\n",
    "            return '<AvBsmtCond'\n",
    "        \n",
    "df['BsmtCond'] = df[['Id','BsmtCond']].apply(impute_BsmtCond,axis=1)"
   ]
  },
  {
   "cell_type": "markdown",
   "metadata": {},
   "source": [
    "### c. BsmtExposure (CAT)"
   ]
  },
  {
   "cell_type": "code",
   "execution_count": 28,
   "metadata": {
    "collapsed": true
   },
   "outputs": [],
   "source": [
    "def impute_949(cols):\n",
    "    Id = cols[0]\n",
    "    BsmtExposure = cols[1]\n",
    "    \n",
    "    if pd.isnull(BsmtExposure) & (Id == 949):\n",
    "            return 'No'\n",
    "    else:\n",
    "        return BsmtExposure\n",
    "        \n",
    "df['BsmtExposure'] = df[['Id','BsmtExposure']].apply(impute_949,axis=1)"
   ]
  },
  {
   "cell_type": "code",
   "execution_count": 29,
   "metadata": {
    "collapsed": true
   },
   "outputs": [],
   "source": [
    "def impute_BsmtExposure(cols):\n",
    "    Id = cols[0]\n",
    "    BsmtExposure = cols[1]\n",
    "    \n",
    "    if pd.isnull(BsmtExposure):\n",
    "        return 'NoBsmtExpo'\n",
    "    else:\n",
    "        if BsmtExposure == 'Mn': \n",
    "            return 'MinBsmtExpo'  # Observations with NA are recoded as No basement exposure\n",
    "        elif BsmtExposure == 'Av':\n",
    "            return 'AvBsmtExpo'\n",
    "        elif BsmtExposure == 'Gd':\n",
    "            return 'GoodBsmtExpo'\n",
    "        else:\n",
    "            return 'NoBsmtExpo'\n",
    "        \n",
    "df['BsmtExposure'] = df[['Id','BsmtExposure']].apply(impute_BsmtExposure,axis=1)"
   ]
  },
  {
   "cell_type": "markdown",
   "metadata": {},
   "source": [
    "### d. BsmtFinType1 (CAT)"
   ]
  },
  {
   "cell_type": "code",
   "execution_count": 30,
   "metadata": {
    "collapsed": true
   },
   "outputs": [],
   "source": [
    "def impute_BsmtFinT1(cols):\n",
    "    Id = cols[0]\n",
    "    BsmtFinType1 = cols[1]\n",
    "    \n",
    "    if pd.isnull(BsmtFinType1):\n",
    "        return 'BdBsmtFinT1'\n",
    "    else:\n",
    "        if BsmtFinType1 in ('GLQ'):\n",
    "            return 'GdBsmtFinT1'\n",
    "        elif BsmtFinType1 in ('ALQ','Rec'):\n",
    "            return 'AvBsmtFinT1'\n",
    "        elif BsmtFinType1 in ('BLQ','LwQ','Unf','NA'):            \n",
    "            return 'BdBsmtFinT1'\n",
    "        \n",
    "df['BsmtFinType1'] = df[['Id','BsmtFinType1']].apply(impute_BsmtFinT1,axis=1)"
   ]
  },
  {
   "cell_type": "markdown",
   "metadata": {},
   "source": [
    "### e. BsmtFinSF1"
   ]
  },
  {
   "cell_type": "code",
   "execution_count": 31,
   "metadata": {},
   "outputs": [
    {
     "data": {
      "text/plain": [
       "\"\\n#Exclude for now becaue many zeroes\\ndef impute_BsmtFinSF1(cols):\\n    Id = cols[0]\\n    BsmtFinSF1 = cols[1]\\n    \\n    if pd.isnull(BsmtFinSF1):\\n        return 652 # Impute missing observation using the mean of the non-zero observations in training set\\n    else:\\n        return BsmtFinSF1\\n\\ndf['BsmtFinSF1'] = df[['Id','BsmtFinSF1']].apply(impute_BsmtFinSF1,axis=1)\\n\""
      ]
     },
     "execution_count": 31,
     "metadata": {},
     "output_type": "execute_result"
    }
   ],
   "source": [
    "\"\"\"\n",
    "#Exclude for now becaue many zeroes\n",
    "def impute_BsmtFinSF1(cols):\n",
    "    Id = cols[0]\n",
    "    BsmtFinSF1 = cols[1]\n",
    "    \n",
    "    if pd.isnull(BsmtFinSF1):\n",
    "        return 652 # Impute missing observation using the mean of the non-zero observations in training set\n",
    "    else:\n",
    "        return BsmtFinSF1\n",
    "\n",
    "df['BsmtFinSF1'] = df[['Id','BsmtFinSF1']].apply(impute_BsmtFinSF1,axis=1)\n",
    "\"\"\""
   ]
  },
  {
   "cell_type": "code",
   "execution_count": 32,
   "metadata": {
    "collapsed": true
   },
   "outputs": [],
   "source": [
    "# Make sure to delete:\n",
    "df.drop('BsmtFinSF1',axis=1,inplace=True)"
   ]
  },
  {
   "cell_type": "markdown",
   "metadata": {},
   "source": [
    "### f. BsmtFinType2 (CAT)"
   ]
  },
  {
   "cell_type": "code",
   "execution_count": 33,
   "metadata": {
    "collapsed": true
   },
   "outputs": [],
   "source": [
    "def impute_333(cols):\n",
    "    Id = cols[0]\n",
    "    BsmtFinType2 = cols[1]\n",
    "    \n",
    "    if pd.isnull(BsmtFinType2) and (Id == 333):\n",
    "        return 'NA' #should be Unf but Unf is recoded as Bd\n",
    "    else:\n",
    "        return BsmtFinType2\n",
    "        \n",
    "df['BsmtFinType2'] = df[['Id','BsmtFinType2']].apply(impute_333,axis=1)"
   ]
  },
  {
   "cell_type": "code",
   "execution_count": 34,
   "metadata": {
    "collapsed": true
   },
   "outputs": [],
   "source": [
    "def impute_BsmtFinType2(cols):\n",
    "    Id = cols[0]\n",
    "    BsmtFinType2 = cols[1]\n",
    "    \n",
    "    if pd.isnull(BsmtFinType2):\n",
    "        return 'Unf-BdBsmtFinT2' \n",
    "    else:\n",
    "        if BsmtFinType2 in ('GLQ','ALQ','Rec'):\n",
    "            return '>=AvBsmtFinT2'\n",
    "        else:            \n",
    "            return 'Unf-BdBsmtFinT2'\n",
    "        \n",
    "df['BsmtFinType2'] = df[['Id','BsmtFinType2']].apply(impute_BsmtFinType2,axis=1)"
   ]
  },
  {
   "cell_type": "markdown",
   "metadata": {},
   "source": [
    "### g. BsmtFinSF2"
   ]
  },
  {
   "cell_type": "code",
   "execution_count": 35,
   "metadata": {
    "collapsed": true
   },
   "outputs": [],
   "source": [
    "# Make sure to delete:\n",
    "df.drop('BsmtFinSF2',axis=1,inplace=True)"
   ]
  },
  {
   "cell_type": "markdown",
   "metadata": {
    "collapsed": true
   },
   "source": [
    "**Exclude and use BsmtUnfSF instead because BsmtFinSF2 has many zeroes.**"
   ]
  },
  {
   "cell_type": "markdown",
   "metadata": {},
   "source": [
    "### h. BsmtUnfSF"
   ]
  },
  {
   "cell_type": "code",
   "execution_count": 36,
   "metadata": {
    "collapsed": true
   },
   "outputs": [],
   "source": [
    "df.drop('BsmtUnfSF',axis=1,inplace=True)"
   ]
  },
  {
   "cell_type": "markdown",
   "metadata": {},
   "source": [
    "### i. TotalBsmtSF (CAT)"
   ]
  },
  {
   "cell_type": "code",
   "execution_count": 37,
   "metadata": {
    "collapsed": true
   },
   "outputs": [],
   "source": [
    "def impute_TotalBsmtSF(cols):\n",
    "    Id = cols[0]\n",
    "    TotalBsmtSF = cols[1]\n",
    "    \n",
    "    if pd.isnull(TotalBsmtSF):\n",
    "        return 'Bsmt:<800SF' # Impute missing as mean of non-zero observations in training set\n",
    "    else:\n",
    "        if TotalBsmtSF < 800: \n",
    "            return 'Bsmt:<800SF'\n",
    "        elif (TotalBsmtSF >= 800) & (TotalBsmtSF < 1000):\n",
    "            return 'Bsmt:800-<1000SF'\n",
    "        elif (TotalBsmtSF >= 1000) & (TotalBsmtSF < 1300):\n",
    "            return 'Bsmt:1000-<1300SF'\n",
    "        else:\n",
    "            return 'Bsmt:>1300SF'\n",
    "        \n",
    "df['TotalBsmtSF'] = df[['Id','TotalBsmtSF']].apply(impute_TotalBsmtSF,axis=1)"
   ]
  },
  {
   "cell_type": "markdown",
   "metadata": {},
   "source": [
    "## 3. Floor"
   ]
  },
  {
   "cell_type": "markdown",
   "metadata": {},
   "source": [
    "### a. 1stFlrSF and 2ndFlrSF (CONT; new feature, 'TotFlrSF')"
   ]
  },
  {
   "cell_type": "code",
   "execution_count": 38,
   "metadata": {
    "collapsed": true
   },
   "outputs": [],
   "source": [
    "def impute_1stFlrSF(cols):\n",
    "    Id = cols[0]\n",
    "    _1stFlrSF = cols[1]\n",
    "    \n",
    "    if pd.isnull(_1stFlrSF):\n",
    "        return 1163 # Impute missing as mean of non-zero observations in training set\n",
    "    else:\n",
    "        return _1stFlrSF\n",
    "        \n",
    "df['1stFlrSF'] = df[['Id','1stFlrSF']].apply(impute_1stFlrSF,axis=1)"
   ]
  },
  {
   "cell_type": "code",
   "execution_count": 39,
   "metadata": {
    "collapsed": true
   },
   "outputs": [],
   "source": [
    "def impute_2ndFlrSF(cols):\n",
    "    Id = cols[0]\n",
    "    _2ndFlrSF = cols[1]\n",
    "    \n",
    "    if pd.isnull(_2ndFlrSF):\n",
    "        return 803 # Impute missing as mean of non-zero observations in training set\n",
    "    else:\n",
    "        return _2ndFlrSF\n",
    "        \n",
    "df['2ndFlrSF'] = df[['Id','2ndFlrSF']].apply(impute_2ndFlrSF,axis=1)"
   ]
  },
  {
   "cell_type": "code",
   "execution_count": 40,
   "metadata": {
    "collapsed": true
   },
   "outputs": [],
   "source": [
    "def impute_TotFlrSF(cols):\n",
    "    Id = cols[0]\n",
    "    _1stFlrSF = cols[1]\n",
    "    _2ndFlrSF = cols[2]\n",
    "    \n",
    "    TotFlrSF = _1stFlrSF + _2ndFlrSF\n",
    "    \n",
    "    return TotFlrSF\n",
    "        \n",
    "df['TotFlrSF'] = df[['Id','1stFlrSF','2ndFlrSF']].apply(impute_TotFlrSF,axis=1)"
   ]
  },
  {
   "cell_type": "code",
   "execution_count": 41,
   "metadata": {
    "collapsed": true
   },
   "outputs": [],
   "source": [
    "# Make sure to drop original features:\n",
    "df.drop(['1stFlrSF','2ndFlrSF'],axis=1,inplace=True)"
   ]
  },
  {
   "cell_type": "markdown",
   "metadata": {},
   "source": [
    "### b. LowQualFinSF"
   ]
  },
  {
   "cell_type": "code",
   "execution_count": 42,
   "metadata": {
    "collapsed": true
   },
   "outputs": [],
   "source": [
    "df.drop('LowQualFinSF',axis=1,inplace=True)"
   ]
  },
  {
   "cell_type": "markdown",
   "metadata": {},
   "source": [
    "### c. GrLivArea (CONT)"
   ]
  },
  {
   "cell_type": "code",
   "execution_count": 43,
   "metadata": {
    "collapsed": true
   },
   "outputs": [],
   "source": [
    "def impute_GrLivArea(cols):\n",
    "    Id = cols[0]\n",
    "    GrLivArea = cols[1]\n",
    "    \n",
    "    if pd.isnull(GrLivArea):\n",
    "        return 1515 # Impute missing as mean of non-zero observations in training set\n",
    "    else:\n",
    "        return GrLivArea\n",
    "        \n",
    "df['GrLivArea'] = df[['Id','GrLivArea']].apply(impute_GrLivArea,axis=1)"
   ]
  },
  {
   "cell_type": "markdown",
   "metadata": {},
   "source": [
    "### d. TotRmsAbvGrd (CONT)"
   ]
  },
  {
   "cell_type": "code",
   "execution_count": 44,
   "metadata": {
    "collapsed": true
   },
   "outputs": [],
   "source": [
    "def impute_TotRmsAbvGrd(cols):\n",
    "    Id = cols[0]\n",
    "    TotRmsAbvGrd = cols[1]\n",
    "    \n",
    "    if pd.isnull(TotRmsAbvGrd):\n",
    "        return 6.5 # Impute missing as mean of non-zero observations in training set\n",
    "    else:\n",
    "        return TotRmsAbvGrd\n",
    "        \n",
    "df['TotRmsAbvGrd'] = df[['Id','TotRmsAbvGrd']].apply(impute_TotRmsAbvGrd,axis=1)"
   ]
  },
  {
   "cell_type": "markdown",
   "metadata": {},
   "source": [
    "## 4. Bathrooms (CAT; new feature, 'NumBaths')"
   ]
  },
  {
   "cell_type": "code",
   "execution_count": 45,
   "metadata": {
    "collapsed": true
   },
   "outputs": [],
   "source": [
    "def impute_BsmtFullBath(cols):\n",
    "    Id = cols[0]\n",
    "    BsmtFullBath = cols[1]\n",
    "    \n",
    "    if pd.isnull(BsmtFullBath):\n",
    "        return 0 # Impute missing as mean of non-zero observations in training set\n",
    "    else:\n",
    "        return BsmtFullBath\n",
    "        \n",
    "df['BsmtFullBath'] = df[['Id','BsmtFullBath']].apply(impute_BsmtFullBath,axis=1)"
   ]
  },
  {
   "cell_type": "code",
   "execution_count": 46,
   "metadata": {
    "collapsed": true
   },
   "outputs": [],
   "source": [
    "def impute_BsmtHalfBath(cols):\n",
    "    Id = cols[0]\n",
    "    BsmtHalfBath = cols[1]\n",
    "    \n",
    "    if pd.isnull(BsmtHalfBath):\n",
    "        return 0 # Impute missing as mean of non-zero observations in training set\n",
    "    else:\n",
    "        return BsmtHalfBath\n",
    "        \n",
    "df['BsmtHalfBath'] = df[['Id','BsmtHalfBath']].apply(impute_BsmtHalfBath,axis=1)"
   ]
  },
  {
   "cell_type": "code",
   "execution_count": 47,
   "metadata": {
    "collapsed": true
   },
   "outputs": [],
   "source": [
    "def impute_FullBath(cols):\n",
    "    Id = cols[0]\n",
    "    FullBath = cols[1]\n",
    "    \n",
    "    if pd.isnull(FullBath):\n",
    "        return 2 # Impute missing as mean of non-zero observations in training set\n",
    "    else:\n",
    "        return FullBath\n",
    "        \n",
    "df['FullBath'] = df[['Id','FullBath']].apply(impute_FullBath,axis=1)"
   ]
  },
  {
   "cell_type": "code",
   "execution_count": 48,
   "metadata": {
    "collapsed": true
   },
   "outputs": [],
   "source": [
    "def impute_HalfBath(cols):\n",
    "    Id = cols[0]\n",
    "    HalfBath = cols[1]\n",
    "    \n",
    "    if pd.isnull(HalfBath):\n",
    "        return 0 # Impute missing as mean of non-zero observations in training set\n",
    "    else:\n",
    "        return HalfBath\n",
    "        \n",
    "df['HalfBath'] = df[['Id','HalfBath']].apply(impute_HalfBath,axis=1)"
   ]
  },
  {
   "cell_type": "code",
   "execution_count": 49,
   "metadata": {
    "collapsed": true
   },
   "outputs": [],
   "source": [
    "def impute_Baths(cols):\n",
    "    Id = cols[0]\n",
    "    BsmtFullBath = cols[1]\n",
    "    BsmtHalfBath = cols[2]\n",
    "    FullBath = cols[3]\n",
    "    HalfBath = cols[4]\n",
    "    \n",
    "    total = BsmtFullBath + 0.5*BsmtHalfBath + FullBath + 0.5*HalfBath\n",
    "    \n",
    "    if total <= 1.5:\n",
    "        return '1-1.5 Bath'\n",
    "    elif total == 2:\n",
    "        return '2 Bath'\n",
    "    elif total == 2.5:\n",
    "        return '2.5 Bath'\n",
    "    elif total>2.5:\n",
    "        return '3+ Bath'\n",
    "        \n",
    "df['NumBaths'] = df[['Id','BsmtFullBath','BsmtHalfBath','FullBath','HalfBath']].apply(impute_Baths,axis=1)"
   ]
  },
  {
   "cell_type": "code",
   "execution_count": 50,
   "metadata": {
    "collapsed": true
   },
   "outputs": [],
   "source": [
    "# Make sure to delete original features:\n",
    "df.drop(['BsmtFullBath','BsmtHalfBath','FullBath','HalfBath'],axis=1,inplace=True)"
   ]
  },
  {
   "cell_type": "markdown",
   "metadata": {},
   "source": [
    "## 5. Bedrooms (CAT)"
   ]
  },
  {
   "cell_type": "code",
   "execution_count": 51,
   "metadata": {
    "collapsed": true
   },
   "outputs": [],
   "source": [
    "def impute_BedroomAbvGr(cols):\n",
    "    Id = cols[0]\n",
    "    BedroomAbvGr = cols[1]\n",
    "    \n",
    "    if pd.isnull(BedroomAbvGr):\n",
    "        return '<3 Bedr'\n",
    "    else:\n",
    "        if BedroomAbvGr < 3:\n",
    "            return '<3 Bedr'\n",
    "        elif BedroomAbvGr == 3:\n",
    "            return '=3 Bedr'\n",
    "        else:\n",
    "            return '>3 Bedr'\n",
    "        \n",
    "df['BedroomAbvGr'] = df[['Id','BedroomAbvGr']].apply(impute_BedroomAbvGr,axis=1)"
   ]
  },
  {
   "cell_type": "markdown",
   "metadata": {},
   "source": [
    "## 6. Kitchen"
   ]
  },
  {
   "cell_type": "markdown",
   "metadata": {
    "collapsed": true
   },
   "source": [
    "### a. KitchenAbvGr (CAT)"
   ]
  },
  {
   "cell_type": "code",
   "execution_count": 52,
   "metadata": {
    "collapsed": true
   },
   "outputs": [],
   "source": [
    "def impute_KitchenAbvGr(cols):\n",
    "    Id = cols[0]\n",
    "    KitchenAbvGr = cols[1]\n",
    "    \n",
    "    if pd.isnull(KitchenAbvGr):\n",
    "        return '1Ktchn' # Missing observations are coded as 'One' kitchen\n",
    "    else:\n",
    "        if KitchenAbvGr == 0:\n",
    "            return '1Ktchn'\n",
    "        elif KitchenAbvGr == 1:\n",
    "            return '1Ktchn'\n",
    "        else:\n",
    "            return '>1Ktchn'\n",
    "        \n",
    "df['KitchenAbvGr'] = df[['Id','KitchenAbvGr']].apply(impute_KitchenAbvGr,axis=1)"
   ]
  },
  {
   "cell_type": "markdown",
   "metadata": {},
   "source": [
    "### b. KitchenQual (CAT)"
   ]
  },
  {
   "cell_type": "code",
   "execution_count": 53,
   "metadata": {
    "collapsed": true
   },
   "outputs": [],
   "source": [
    "def impute_KitchenQual(cols):\n",
    "    Id = cols[0]\n",
    "    KitchenQual = cols[1]\n",
    "    \n",
    "    if pd.isnull(KitchenQual):\n",
    "        return 'AvKtchnQ' # Missing observations are coded as 'Typical/Average'\n",
    "    else:\n",
    "        if KitchenQual in ('Fa','Po','TA'):\n",
    "            return 'AvKtchnQ'\n",
    "        elif KitchenQual == 'Gd':\n",
    "            return 'GdKtchnQ'\n",
    "        else:\n",
    "            return 'ExKtchnQ'\n",
    "        \n",
    "df['KitchenQual'] = df[['Id','KitchenQual']].apply(impute_KitchenQual,axis=1)"
   ]
  },
  {
   "cell_type": "markdown",
   "metadata": {},
   "source": [
    "## 7. Fireplace"
   ]
  },
  {
   "cell_type": "markdown",
   "metadata": {
    "collapsed": true
   },
   "source": [
    "### a. Fireplaces (CAT)"
   ]
  },
  {
   "cell_type": "code",
   "execution_count": 54,
   "metadata": {
    "collapsed": true
   },
   "outputs": [],
   "source": [
    "def impute_Fireplaces(cols):\n",
    "    Id = cols[0]\n",
    "    Fireplaces = cols[1]\n",
    "    \n",
    "    if pd.isnull(Fireplaces):\n",
    "        return 'NoFirePl' \n",
    "    else:\n",
    "        if Fireplaces == 0:\n",
    "            return 'NoFirePl'\n",
    "        elif Fireplaces == 1:\n",
    "            return '1FirePl'\n",
    "        else:\n",
    "            return '>1FirePl'\n",
    "        \n",
    "df['Fireplaces'] = df[['Id','Fireplaces']].apply(impute_Fireplaces,axis=1)"
   ]
  },
  {
   "cell_type": "markdown",
   "metadata": {},
   "source": [
    "### b. FireplaceQu (CAT)"
   ]
  },
  {
   "cell_type": "code",
   "execution_count": 55,
   "metadata": {
    "collapsed": true
   },
   "outputs": [],
   "source": [
    "def impute_FireplaceQu(cols):\n",
    "    Id = cols[0]\n",
    "    FireplaceQu = cols[1]\n",
    "    \n",
    "    if pd.isnull(FireplaceQu):\n",
    "        return 'No-BdFirePlQ'\n",
    "    else:\n",
    "        if FireplaceQu in ('Ex','Gd'):\n",
    "            return 'GdFirePlQ'\n",
    "        elif FireplaceQu in ('Fa','Po'):\n",
    "            return 'No-BdFirePlQ'\n",
    "        elif FireplaceQu == 'NA':\n",
    "            return 'No-BdFirePlQ'\n",
    "        else:            \n",
    "            return 'AvFirePlQ'\n",
    "        \n",
    "df['FireplaceQu'] = df[['Id','FireplaceQu']].apply(impute_FireplaceQu,axis=1)"
   ]
  },
  {
   "cell_type": "markdown",
   "metadata": {},
   "source": [
    "## 8. Garage"
   ]
  },
  {
   "cell_type": "markdown",
   "metadata": {
    "collapsed": true
   },
   "source": [
    "### a. GarageArea"
   ]
  },
  {
   "cell_type": "code",
   "execution_count": 56,
   "metadata": {
    "collapsed": true
   },
   "outputs": [],
   "source": [
    "df.drop('GarageArea',axis=1,inplace=True)"
   ]
  },
  {
   "cell_type": "markdown",
   "metadata": {},
   "source": [
    "### b. GarageType (CAT)"
   ]
  },
  {
   "cell_type": "code",
   "execution_count": 57,
   "metadata": {
    "collapsed": true
   },
   "outputs": [],
   "source": [
    "def impute_GarageType(cols):\n",
    "    Id = cols[0]\n",
    "    GarageType = cols[1]\n",
    "    \n",
    "    if pd.isnull(GarageType):\n",
    "        return 'No-OthGrgT'\n",
    "    else:\n",
    "        if GarageType == 'Attchd':\n",
    "            return 'AttGrgT'\n",
    "        elif GarageType == 'Detchd':\n",
    "            return 'DetGrgT'\n",
    "        else:            \n",
    "            return 'No-OthGrgT'\n",
    "        \n",
    "df['GarageType'] = df[['Id','GarageType']].apply(impute_GarageType,axis=1)"
   ]
  },
  {
   "cell_type": "markdown",
   "metadata": {},
   "source": [
    "### c. GarageYrBlt"
   ]
  },
  {
   "cell_type": "code",
   "execution_count": 58,
   "metadata": {
    "collapsed": true
   },
   "outputs": [],
   "source": [
    "df.drop('GarageYrBlt',axis=1,inplace=True)"
   ]
  },
  {
   "cell_type": "markdown",
   "metadata": {},
   "source": [
    "### d. GarageFinish (CAT)"
   ]
  },
  {
   "cell_type": "code",
   "execution_count": 59,
   "metadata": {
    "collapsed": true
   },
   "outputs": [],
   "source": [
    "def impute_GarageFinish(cols):\n",
    "    Id = cols[0]\n",
    "    GarageFinish = cols[1]\n",
    "    \n",
    "    if pd.isnull(GarageFinish):\n",
    "        return 'No-UnfGrgF'\n",
    "    else:\n",
    "        if GarageFinish == 'Fin': \n",
    "            return 'FinGrgF'\n",
    "        elif GarageFinish == 'RFn':\n",
    "            return 'RghGrgF'\n",
    "        else:            \n",
    "            return 'No-UnfGrgF'\n",
    "        \n",
    "df['GarageFinish'] = df[['Id','GarageFinish']].apply(impute_GarageFinish,axis=1)"
   ]
  },
  {
   "cell_type": "markdown",
   "metadata": {},
   "source": [
    "### e. GarageCars (CAT)"
   ]
  },
  {
   "cell_type": "code",
   "execution_count": 60,
   "metadata": {
    "collapsed": true
   },
   "outputs": [],
   "source": [
    "def impute_GarageCars(cols):\n",
    "    Id = cols[0]\n",
    "    GarageCars = cols[1]\n",
    "    \n",
    "    if pd.isnull(GarageCars):\n",
    "        return 'NoCar'\n",
    "    else:\n",
    "        if GarageCars == 0:\n",
    "            return 'NoCar'\n",
    "        elif GarageCars == 1:\n",
    "            return '1Car'\n",
    "        elif GarageCars == 2:\n",
    "            return '2Car'\n",
    "        else:            \n",
    "            return '>2Car'\n",
    "        \n",
    "df['GarageCars'] = df[['Id','GarageCars']].apply(impute_GarageCars,axis=1)"
   ]
  },
  {
   "cell_type": "markdown",
   "metadata": {},
   "source": [
    "### f. GarageQual (CAT)"
   ]
  },
  {
   "cell_type": "code",
   "execution_count": 61,
   "metadata": {
    "collapsed": true
   },
   "outputs": [],
   "source": [
    "def impute_GarageQual(cols):\n",
    "    Id = cols[0]\n",
    "    GarageQual = cols[1]\n",
    "    \n",
    "    if pd.isnull(GarageQual):\n",
    "        return 'No-<AveGrgQ'\n",
    "    else:\n",
    "        if GarageQual in ('TA','Gd','Ex'):\n",
    "            return '>=AvGrgQ'\n",
    "        else:\n",
    "            return 'No-<AveGrgQ'\n",
    "        \n",
    "df['GarageQual'] = df[['Id','GarageQual']].apply(impute_GarageQual,axis=1)"
   ]
  },
  {
   "cell_type": "markdown",
   "metadata": {},
   "source": [
    "### g. GarageCond (CAT)"
   ]
  },
  {
   "cell_type": "code",
   "execution_count": 62,
   "metadata": {
    "collapsed": true
   },
   "outputs": [],
   "source": [
    "def impute_GarageCond(cols):\n",
    "    Id = cols[0]\n",
    "    GarageCond = cols[1]\n",
    "    \n",
    "    if pd.isnull(GarageCond):\n",
    "        return 'No-<AvGrgC'\n",
    "    else:\n",
    "        if GarageCond in ('TA','Gd','Ex'):\n",
    "            return '>=AvGrgC'\n",
    "        else:\n",
    "            return 'No-<AvGrgC'\n",
    "        \n",
    "df['GarageCond'] = df[['Id','GarageCond']].apply(impute_GarageCond,axis=1)"
   ]
  },
  {
   "cell_type": "markdown",
   "metadata": {},
   "source": [
    "### h. PavedDrive (CAT)"
   ]
  },
  {
   "cell_type": "code",
   "execution_count": 63,
   "metadata": {
    "collapsed": true
   },
   "outputs": [],
   "source": [
    "def impute_PavedDrive(cols):\n",
    "    Id = cols[0]\n",
    "    PavedDrive = cols[1]\n",
    "    \n",
    "    if pd.isnull(PavedDrive):\n",
    "        return 'NPaveDr'\n",
    "    else:\n",
    "        if PavedDrive =='Y':\n",
    "            return 'PaveDr'\n",
    "        else:\n",
    "            return 'NPaveDr'\n",
    "        \n",
    "df['PavedDrive'] = df[['Id','PavedDrive']].apply(impute_PavedDrive,axis=1)"
   ]
  },
  {
   "cell_type": "markdown",
   "metadata": {},
   "source": [
    "# HOUSE EXTERIOR"
   ]
  },
  {
   "cell_type": "markdown",
   "metadata": {},
   "source": [
    "## 1. General"
   ]
  },
  {
   "cell_type": "markdown",
   "metadata": {
    "collapsed": true
   },
   "source": [
    "### a. RoofStyle (CAT)"
   ]
  },
  {
   "cell_type": "code",
   "execution_count": 64,
   "metadata": {
    "collapsed": true
   },
   "outputs": [],
   "source": [
    "def impute_RoofStyle(cols):\n",
    "    Id = cols[0]\n",
    "    RoofStyle = cols[1]\n",
    "    \n",
    "    if pd.isnull(RoofStyle):\n",
    "        return 'OthRoofS'\n",
    "    else:\n",
    "        if RoofStyle == 'Gable':\n",
    "            return 'GblRoofS'\n",
    "        else:\n",
    "            return 'OthRoofS'\n",
    "        \n",
    "df['RoofStyle'] = df[['Id','RoofStyle']].apply(impute_RoofStyle,axis=1)"
   ]
  },
  {
   "cell_type": "markdown",
   "metadata": {},
   "source": [
    "### b. RoofMat1"
   ]
  },
  {
   "cell_type": "code",
   "execution_count": 65,
   "metadata": {
    "collapsed": true
   },
   "outputs": [],
   "source": [
    "# Make sure to exclude feature:\n",
    "df.drop('RoofMatl',axis=1,inplace=True)"
   ]
  },
  {
   "cell_type": "markdown",
   "metadata": {},
   "source": [
    "### c. Exterior1st (CAT) and Exterior2nd"
   ]
  },
  {
   "cell_type": "code",
   "execution_count": 66,
   "metadata": {
    "collapsed": true
   },
   "outputs": [],
   "source": [
    "def impute_Exterior1st(cols):\n",
    "    Id = cols[0]\n",
    "    Exterior1st = cols[1]\n",
    "    \n",
    "    if pd.isnull(Exterior1st):\n",
    "        return 'Other'\n",
    "    else:\n",
    "        if Exterior1st not in ('VinylSd','MetalSd','HdBoard','Wd Sdng'):\n",
    "            return 'OthExt1'\n",
    "        else:\n",
    "            return Exterior1st\n",
    "        \n",
    "df['Exterior1st'] = df[['Id','Exterior1st']].apply(impute_Exterior1st,axis=1)"
   ]
  },
  {
   "cell_type": "code",
   "execution_count": 67,
   "metadata": {
    "collapsed": true
   },
   "outputs": [],
   "source": [
    "df.drop('Exterior2nd',axis=1,inplace=True)"
   ]
  },
  {
   "cell_type": "markdown",
   "metadata": {},
   "source": [
    "### c. MasVnrType (CAT) and MasVnrArea"
   ]
  },
  {
   "cell_type": "code",
   "execution_count": 68,
   "metadata": {
    "collapsed": true,
    "scrolled": true
   },
   "outputs": [],
   "source": [
    "def fix_MasVnrType1(cols):\n",
    "    Id = cols[0]\n",
    "    MasVnrType = cols[1]\n",
    "    MasVnrArea = cols[2]\n",
    "    \n",
    "    if (MasVnrType != 'None') & (MasVnrArea == 0):\n",
    "        return 'None'\n",
    "    else:\n",
    "        return MasVnrType\n",
    "        \n",
    "df['MasVnrType'] = df[['Id','MasVnrType','MasVnrArea']].apply(fix_MasVnrType1,axis=1)"
   ]
  },
  {
   "cell_type": "code",
   "execution_count": 69,
   "metadata": {
    "collapsed": true
   },
   "outputs": [],
   "source": [
    "def fix_MasVnrType2(cols):\n",
    "    Id = cols[0]\n",
    "    MasVnrType = cols[1]\n",
    "    MasVnrArea = cols[2]\n",
    "    \n",
    "    if (MasVnrType == 'None') & (MasVnrArea > 0):\n",
    "        return 0\n",
    "    else:\n",
    "        return MasVnrArea\n",
    "        \n",
    "df['MasVnrArea'] = df[['Id','MasVnrType','MasVnrArea']].apply(fix_MasVnrType2,axis=1)"
   ]
  },
  {
   "cell_type": "code",
   "execution_count": 70,
   "metadata": {
    "collapsed": true
   },
   "outputs": [],
   "source": [
    "def impute_MasVnrType(cols):\n",
    "    Id = cols[0]\n",
    "    MasVnrType = cols[1]\n",
    "    \n",
    "    if pd.isnull(MasVnrType):\n",
    "        return 'NoneMVT'\n",
    "    else:\n",
    "        if MasVnrType in ('BrkFace','BrkCmn'):\n",
    "            return 'BrkCFMVT'\n",
    "        elif MasVnrType == 'Stone':\n",
    "            return 'StoneMVT'\n",
    "        else:            \n",
    "            return 'NoneMVT'\n",
    "        \n",
    "df['MasVnrType'] = df[['Id','MasVnrType']].apply(impute_MasVnrType,axis=1)"
   ]
  },
  {
   "cell_type": "code",
   "execution_count": 71,
   "metadata": {},
   "outputs": [
    {
     "data": {
      "text/plain": [
       "\"\\n#Exclude for now because of too many zeroes.\\ndef impute_MasVnrArea(cols):\\n    Id = cols[0]\\n    MasVnrArea = cols[1]\\n    \\n    if pd.isnull(MasVnrArea):\\n        return 255 # Impute missing as mean of non-zero observations in training set\\n    else:\\n        return MasVnrArea\\n        \\ndf['MasVnrArea'] = df[['Id','MasVnrArea']].apply(impute_MasVnrArea,axis=1)\\n\""
      ]
     },
     "execution_count": 71,
     "metadata": {},
     "output_type": "execute_result"
    }
   ],
   "source": [
    "\"\"\"\n",
    "#Exclude for now because of too many zeroes.\n",
    "def impute_MasVnrArea(cols):\n",
    "    Id = cols[0]\n",
    "    MasVnrArea = cols[1]\n",
    "    \n",
    "    if pd.isnull(MasVnrArea):\n",
    "        return 255 # Impute missing as mean of non-zero observations in training set\n",
    "    else:\n",
    "        return MasVnrArea\n",
    "        \n",
    "df['MasVnrArea'] = df[['Id','MasVnrArea']].apply(impute_MasVnrArea,axis=1)\n",
    "\"\"\""
   ]
  },
  {
   "cell_type": "code",
   "execution_count": 72,
   "metadata": {
    "collapsed": true
   },
   "outputs": [],
   "source": [
    "df.drop('MasVnrArea',axis=1,inplace=True)"
   ]
  },
  {
   "cell_type": "markdown",
   "metadata": {},
   "source": [
    "### d. ExterQual (CAT)"
   ]
  },
  {
   "cell_type": "code",
   "execution_count": 73,
   "metadata": {
    "collapsed": true
   },
   "outputs": [],
   "source": [
    "def impute_ExterQual(cols):\n",
    "    Id = cols[0]\n",
    "    ExterQual = cols[1]\n",
    "    \n",
    "    if pd.isnull(ExterQual):\n",
    "        return 'AvExtQual'\n",
    "    else:\n",
    "        if ExterQual in ('Ex','Gd'):\n",
    "            return 'GdExtQual'\n",
    "        else:\n",
    "            return 'AvExtQual'\n",
    "        \n",
    "df['ExterQual'] = df[['Id','ExterQual']].apply(impute_ExterQual,axis=1)"
   ]
  },
  {
   "cell_type": "markdown",
   "metadata": {},
   "source": [
    "### e. ExterCond (CAT)"
   ]
  },
  {
   "cell_type": "code",
   "execution_count": 74,
   "metadata": {
    "collapsed": true
   },
   "outputs": [],
   "source": [
    "def impute_ExterCond(cols):\n",
    "    Id = cols[0]\n",
    "    ExterCond = cols[1]\n",
    "    \n",
    "    if pd.isnull(ExterCond):\n",
    "        return 'AvExtCond'\n",
    "    else:\n",
    "        if ExterCond in ('Ex','Gd'):\n",
    "            return 'GdExtCond'\n",
    "        else:\n",
    "            return 'AvExtCond'\n",
    "        \n",
    "df['ExterCond'] = df[['Id','ExterCond']].apply(impute_ExterCond,axis=1)"
   ]
  },
  {
   "cell_type": "markdown",
   "metadata": {},
   "source": [
    "### f. Foundation (CAT)"
   ]
  },
  {
   "cell_type": "code",
   "execution_count": 75,
   "metadata": {
    "collapsed": true
   },
   "outputs": [],
   "source": [
    "def impute_Foundation(cols):\n",
    "    Id = cols[0]\n",
    "    Foundation = cols[1]\n",
    "    \n",
    "    if pd.isnull(Foundation):\n",
    "        return 'OthFndtn'\n",
    "    else:\n",
    "        if Foundation in ('BrkTil','Slab','Stone','Wood'):\n",
    "            return 'OthFndtn'\n",
    "        else:\n",
    "            return Foundation\n",
    "        \n",
    "df['Foundation'] = df[['Id','Foundation']].apply(impute_Foundation,axis=1)"
   ]
  },
  {
   "cell_type": "markdown",
   "metadata": {},
   "source": [
    "## 2. Lot"
   ]
  },
  {
   "cell_type": "markdown",
   "metadata": {
    "collapsed": true
   },
   "source": [
    "### a. LotFrontage"
   ]
  },
  {
   "cell_type": "code",
   "execution_count": 76,
   "metadata": {
    "collapsed": true
   },
   "outputs": [],
   "source": [
    "df.drop('LotFrontage',axis=1,inplace=True)"
   ]
  },
  {
   "cell_type": "markdown",
   "metadata": {},
   "source": [
    "### b. LotArea (CONT)"
   ]
  },
  {
   "cell_type": "code",
   "execution_count": 77,
   "metadata": {
    "collapsed": true
   },
   "outputs": [],
   "source": [
    "def impute_LotArea(cols):\n",
    "    Id = cols[0]\n",
    "    LotArea = cols[1]\n",
    "    \n",
    "    if pd.isnull(LotArea):\n",
    "        return 10157 # Impute missing as mean of non-zero observations in training set\n",
    "    else:\n",
    "        return LotArea\n",
    "        \n",
    "df['LotArea'] = df[['Id','LotArea']].apply(impute_LotArea,axis=1)"
   ]
  },
  {
   "cell_type": "markdown",
   "metadata": {},
   "source": [
    "### c. LotConfig (CAT)"
   ]
  },
  {
   "cell_type": "code",
   "execution_count": 78,
   "metadata": {
    "collapsed": true
   },
   "outputs": [],
   "source": [
    "def impute_LotConfig(cols):\n",
    "    Id = cols[0]\n",
    "    LotConfig = cols[1]\n",
    "    \n",
    "    if pd.isnull(LotConfig):\n",
    "        return 'OthLotCnfg'\n",
    "    else:\n",
    "        if LotConfig in ('CulDSac','FR2','FR3'):\n",
    "            return 'OthLotCnfg'\n",
    "        else:\n",
    "            return LotConfig\n",
    "        \n",
    "df['LotConfig'] = df[['Id','LotConfig']].apply(impute_LotConfig,axis=1)"
   ]
  },
  {
   "cell_type": "markdown",
   "metadata": {
    "collapsed": true
   },
   "source": [
    "### d. LandSlope (CAT)"
   ]
  },
  {
   "cell_type": "code",
   "execution_count": 79,
   "metadata": {
    "collapsed": true
   },
   "outputs": [],
   "source": [
    "def impute_LandSlope(cols):\n",
    "    Id = cols[0]\n",
    "    LandSlope = cols[1]\n",
    "    \n",
    "    if pd.isnull(LandSlope):\n",
    "        return 'OthSlope'\n",
    "    else:\n",
    "        if LandSlope == 'Gtl':\n",
    "            return 'GntlSlope'\n",
    "        else:\n",
    "            return 'OthSlope'\n",
    "        \n",
    "df['LandSlope'] = df[['Id','LandSlope']].apply(impute_LandSlope,axis=1)"
   ]
  },
  {
   "cell_type": "markdown",
   "metadata": {},
   "source": [
    "### e. Street"
   ]
  },
  {
   "cell_type": "code",
   "execution_count": 80,
   "metadata": {
    "collapsed": true
   },
   "outputs": [],
   "source": [
    "df.drop('Street',axis=1,inplace=True)"
   ]
  },
  {
   "cell_type": "markdown",
   "metadata": {},
   "source": [
    "### f. Alley"
   ]
  },
  {
   "cell_type": "code",
   "execution_count": 81,
   "metadata": {
    "collapsed": true
   },
   "outputs": [],
   "source": [
    "df.drop('Alley',axis=1,inplace=True)"
   ]
  },
  {
   "cell_type": "markdown",
   "metadata": {},
   "source": [
    "### g. LotShape (CAT)"
   ]
  },
  {
   "cell_type": "code",
   "execution_count": 82,
   "metadata": {
    "collapsed": true
   },
   "outputs": [],
   "source": [
    "def impute_LotShape(cols):\n",
    "    Id = cols[0]\n",
    "    LotShape = cols[1]\n",
    "    \n",
    "    if pd.isnull(LotShape):\n",
    "        return 'NRegShape' # Missing imputed as Irregular\n",
    "    else:\n",
    "        if LotShape =='Reg': \n",
    "            return 'RegShape'\n",
    "        else:\n",
    "            return 'NRegShape'\n",
    "        \n",
    "df['LotShape'] = df[['Id','LotShape']].apply(impute_LotShape,axis=1)"
   ]
  },
  {
   "cell_type": "markdown",
   "metadata": {},
   "source": [
    "### h. LandContour (CAT)"
   ]
  },
  {
   "cell_type": "code",
   "execution_count": 83,
   "metadata": {
    "collapsed": true
   },
   "outputs": [],
   "source": [
    "def impute_LandContour(cols):\n",
    "    Id = cols[0]\n",
    "    LandContour = cols[1]\n",
    "    \n",
    "    if pd.isnull(LandContour):\n",
    "        return 'NLevel'\n",
    "    else:\n",
    "        if LandContour == 'Lvl':\n",
    "            return 'Level'\n",
    "        else:\n",
    "            return 'NLevel'\n",
    "        \n",
    "df['LandContour'] = df[['Id','LandContour']].apply(impute_LandContour,axis=1)"
   ]
  },
  {
   "cell_type": "markdown",
   "metadata": {},
   "source": [
    "### i. Fence (CAT)"
   ]
  },
  {
   "cell_type": "code",
   "execution_count": 84,
   "metadata": {
    "collapsed": true
   },
   "outputs": [],
   "source": [
    "def impute_Fence(cols):\n",
    "    Id = cols[0]\n",
    "    Fence = cols[1]\n",
    "    \n",
    "    if pd.isnull(Fence):\n",
    "        return 'NFence'\n",
    "    elif Fence in ('MnPrv','GdPrv','GdWo','MnWw'):\n",
    "        return 'Fence'\n",
    "    else:\n",
    "        return 'NFence'\n",
    "        \n",
    "df['Fence'] = df[['Id','Fence']].apply(impute_Fence,axis=1)"
   ]
  },
  {
   "cell_type": "markdown",
   "metadata": {},
   "source": [
    "## 3. Deck"
   ]
  },
  {
   "cell_type": "markdown",
   "metadata": {
    "collapsed": true
   },
   "source": [
    "### a. WoodDeckSF (CAT; continuous into categorical)"
   ]
  },
  {
   "cell_type": "code",
   "execution_count": 85,
   "metadata": {
    "collapsed": true
   },
   "outputs": [],
   "source": [
    "def impute_WoodDeck(cols):\n",
    "    Id = cols[0]\n",
    "    WoodDeckSF = cols[1]\n",
    "    \n",
    "    if WoodDeckSF == 0:\n",
    "        return 'NWoodDeck'\n",
    "    else:\n",
    "        return 'WoodDeck'\n",
    "        \n",
    "df['WoodDeckSF'] = df[['Id','WoodDeckSF']].apply(impute_WoodDeck,axis=1)"
   ]
  },
  {
   "cell_type": "markdown",
   "metadata": {},
   "source": [
    "### b. OpenPorchSF (CAT; continuous to categorical)"
   ]
  },
  {
   "cell_type": "code",
   "execution_count": 86,
   "metadata": {
    "collapsed": true
   },
   "outputs": [],
   "source": [
    "def impute_OpenPorch(cols):\n",
    "    Id = cols[0]\n",
    "    OpenPorchSF = cols[1]\n",
    "    \n",
    "    if OpenPorchSF == 0:\n",
    "        return 'NOpenPorch'\n",
    "    else:\n",
    "        return 'OpenPorch'\n",
    "        \n",
    "df['OpenPorchSF'] = df[['Id','OpenPorchSF']].apply(impute_OpenPorch,axis=1)"
   ]
  },
  {
   "cell_type": "markdown",
   "metadata": {},
   "source": [
    "### c. EnclosedPorch (CAT; continuous to categorical)"
   ]
  },
  {
   "cell_type": "code",
   "execution_count": 87,
   "metadata": {
    "collapsed": true
   },
   "outputs": [],
   "source": [
    "def impute_EnclosedPorch(cols):\n",
    "    Id = cols[0]\n",
    "    EnclosedPorch = cols[1]\n",
    "    \n",
    "    if EnclosedPorch == 0:\n",
    "        return 'NEnclsdPorch'\n",
    "    else:\n",
    "        return 'EnclsdPorch'\n",
    "        \n",
    "df['EnclosedPorch'] = df[['Id','EnclosedPorch']].apply(impute_EnclosedPorch,axis=1)"
   ]
  },
  {
   "cell_type": "markdown",
   "metadata": {},
   "source": [
    "### d. 3SsnPorch"
   ]
  },
  {
   "cell_type": "code",
   "execution_count": 88,
   "metadata": {
    "collapsed": true
   },
   "outputs": [],
   "source": [
    "df.drop('3SsnPorch',axis=1,inplace=True)"
   ]
  },
  {
   "cell_type": "markdown",
   "metadata": {
    "collapsed": true
   },
   "source": [
    "### e. ScreenPorch (CAT; continuous to categorical)"
   ]
  },
  {
   "cell_type": "code",
   "execution_count": 89,
   "metadata": {
    "collapsed": true
   },
   "outputs": [],
   "source": [
    "def impute_ScreenPorch(cols):\n",
    "    Id = cols[0]\n",
    "    ScreenPorch = cols[1]\n",
    "    \n",
    "    if ScreenPorch == 0:\n",
    "        return 'NScrnPorch'\n",
    "    else:\n",
    "        return 'ScrnPorch'\n",
    "        \n",
    "df['ScreenPorch'] = df[['Id','ScreenPorch']].apply(impute_ScreenPorch,axis=1)"
   ]
  },
  {
   "cell_type": "markdown",
   "metadata": {},
   "source": [
    "## 4. Pool"
   ]
  },
  {
   "cell_type": "markdown",
   "metadata": {
    "collapsed": true
   },
   "source": [
    "### a. PoolArea"
   ]
  },
  {
   "cell_type": "code",
   "execution_count": 90,
   "metadata": {
    "collapsed": true
   },
   "outputs": [],
   "source": [
    "df.drop('PoolArea',axis=1,inplace=True)"
   ]
  },
  {
   "cell_type": "markdown",
   "metadata": {
    "collapsed": true
   },
   "source": [
    "### b. PoolQC"
   ]
  },
  {
   "cell_type": "code",
   "execution_count": 91,
   "metadata": {
    "collapsed": true
   },
   "outputs": [],
   "source": [
    "df.drop('PoolQC',axis=1,inplace=True)"
   ]
  },
  {
   "cell_type": "markdown",
   "metadata": {},
   "source": [
    "## 5. Other"
   ]
  },
  {
   "cell_type": "markdown",
   "metadata": {},
   "source": [
    "### a. MiscFeature"
   ]
  },
  {
   "cell_type": "markdown",
   "metadata": {
    "collapsed": true
   },
   "source": [
    "### b. MiscVal"
   ]
  },
  {
   "cell_type": "code",
   "execution_count": 92,
   "metadata": {
    "collapsed": true
   },
   "outputs": [],
   "source": [
    "df.drop(['MiscFeature','MiscVal'],axis=1,inplace=True)"
   ]
  },
  {
   "cell_type": "markdown",
   "metadata": {},
   "source": [
    "# SAVE DATA TO DIRECTORY"
   ]
  },
  {
   "cell_type": "code",
   "execution_count": 93,
   "metadata": {
    "collapsed": true
   },
   "outputs": [],
   "source": [
    "#df.to_pickle('train_select')\n",
    "df.to_pickle('./Data/train_select')"
   ]
  }
 ],
 "metadata": {
  "kernelspec": {
   "display_name": "Python 3",
   "language": "python",
   "name": "python3"
  },
  "language_info": {
   "codemirror_mode": {
    "name": "ipython",
    "version": 3
   },
   "file_extension": ".py",
   "mimetype": "text/x-python",
   "name": "python",
   "nbconvert_exporter": "python",
   "pygments_lexer": "ipython3",
   "version": "3.6.2"
  }
 },
 "nbformat": 4,
 "nbformat_minor": 2
}
